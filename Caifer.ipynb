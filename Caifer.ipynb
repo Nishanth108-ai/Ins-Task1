{
  "nbformat": 4,
  "nbformat_minor": 0,
  "metadata": {
    "colab": {
      "provenance": [],
      "authorship_tag": "ABX9TyPCknrRz1camk/CKseq7Bgf",
      "include_colab_link": true
    },
    "kernelspec": {
      "name": "python3",
      "display_name": "Python 3"
    },
    "language_info": {
      "name": "python"
    }
  },
  "cells": [
    {
      "cell_type": "markdown",
      "metadata": {
        "id": "view-in-github",
        "colab_type": "text"
      },
      "source": [
        "<a href=\"https://colab.research.google.com/github/Nishanth108-ai/Ins-Task1/blob/main/Caifer.ipynb\" target=\"_parent\"><img src=\"https://colab.research.google.com/assets/colab-badge.svg\" alt=\"Open In Colab\"/></a>"
      ]
    },
    {
      "cell_type": "code",
      "execution_count": 2,
      "metadata": {
        "colab": {
          "base_uri": "https://localhost:8080/"
        },
        "id": "0sp9K48Tpz_G",
        "outputId": "0212d77e-9fd2-46b3-bb94-77e834aeca51"
      },
      "outputs": [
        {
          "output_type": "stream",
          "name": "stdout",
          "text": [
            "Vigenere Cipher:\n",
            "Encrypted: RIJVS\n",
            "Decrypted: HELLO\n",
            "\n",
            "Hill Cipher:\n",
            "Encrypted: AH\n",
            "Decrypted: OQ\n",
            "\n",
            "Playfair Cipher:\n",
            "Encrypted: DBMMNZ\n",
            "Decrypted: HELLOX\n"
          ]
        }
      ],
      "source": [
        "import numpy as np\n",
        "\n",
        "# Vigenere Cipher\n",
        "def vigenere_encrypt(text, key):\n",
        "    encrypted_text = \"\"\n",
        "    key = key * (len(text) // len(key)) + key[:len(text) % len(key)]\n",
        "    for t, k in zip(text, key):\n",
        "        encrypted_text += chr(((ord(t) + ord(k)) % 26) + 65)\n",
        "    return encrypted_text\n",
        "\n",
        "def vigenere_decrypt(text, key):\n",
        "    decrypted_text = \"\"\n",
        "    key = key * (len(text) // len(key)) + key[:len(text) % len(key)]\n",
        "    for t, k in zip(text, key):\n",
        "        decrypted_text += chr(((ord(t) - ord(k)) % 26) + 65)\n",
        "    return decrypted_text\n",
        "\n",
        "# Hill Cipher\n",
        "def hill_encrypt(text, key_matrix):\n",
        "    text_vector = [ord(char) - 65 for char in text]\n",
        "    encrypted_vector = np.dot(key_matrix, text_vector) % 26\n",
        "    return \"\".join(chr(num + 65) for num in encrypted_vector)\n",
        "\n",
        "def hill_decrypt(text, key_matrix):\n",
        "    text_vector = [ord(char) - 65 for char in text]\n",
        "    key_inv = np.linalg.inv(key_matrix) * np.linalg.det(key_matrix)\n",
        "    key_inv = np.round(key_inv).astype(int) % 26\n",
        "    decrypted_vector = np.dot(key_inv, text_vector) % 26\n",
        "    return \"\".join(chr(num + 65) for num in decrypted_vector)\n",
        "\n",
        "# Playfair Cipher\n",
        "def generate_playfair_matrix(key):\n",
        "    key = \"\".join(dict.fromkeys(key.upper().replace(\"J\", \"I\")))\n",
        "    alphabet = \"ABCDEFGHIKLMNOPQRSTUVWXYZ\"\n",
        "    matrix = [c for c in key + \"\".join([c for c in alphabet if c not in key])]\n",
        "    return [matrix[i:i+5] for i in range(0, 25, 5)]\n",
        "\n",
        "def playfair_encrypt(text, key):\n",
        "    matrix = generate_playfair_matrix(key)\n",
        "    text = text.upper().replace(\"J\", \"I\").replace(\" \", \"\")\n",
        "    text_pairs = [(text[i], text[i+1] if i+1 < len(text) else \"X\") for i in range(0, len(text), 2)]\n",
        "    encrypted_text = \"\"\n",
        "    for a, b in text_pairs:\n",
        "        row1, col1 = next((r, c) for r, row in enumerate(matrix) for c, val in enumerate(row) if val == a)\n",
        "        row2, col2 = next((r, c) for r, row in enumerate(matrix) for c, val in enumerate(row) if val == b)\n",
        "        if row1 == row2:\n",
        "            encrypted_text += matrix[row1][(col1+1)%5] + matrix[row2][(col2+1)%5]\n",
        "        elif col1 == col2:\n",
        "            encrypted_text += matrix[(row1+1)%5][col1] + matrix[(row2+1)%5][col2]\n",
        "        else:\n",
        "            encrypted_text += matrix[row1][col2] + matrix[row2][col1]\n",
        "    return encrypted_text\n",
        "\n",
        "def playfair_decrypt(text, key):\n",
        "    matrix = generate_playfair_matrix(key)\n",
        "    text_pairs = [(text[i], text[i+1]) for i in range(0, len(text), 2)]\n",
        "    decrypted_text = \"\"\n",
        "    for a, b in text_pairs:\n",
        "        row1, col1 = next((r, c) for r, row in enumerate(matrix) for c, val in enumerate(row) if val == a)\n",
        "        row2, col2 = next((r, c) for r, row in enumerate(matrix) for c, val in enumerate(row) if val == b)\n",
        "        if row1 == row2:\n",
        "            decrypted_text += matrix[row1][(col1-1)%5] + matrix[row2][(col2-1)%5]\n",
        "        elif col1 == col2:\n",
        "            decrypted_text += matrix[(row1-1)%5][col1] + matrix[(row2-1)%5][col2]\n",
        "        else:\n",
        "            decrypted_text += matrix[row1][col2] + matrix[row2][col1]\n",
        "    return decrypted_text\n",
        "\n",
        "# Example usage\n",
        "if __name__ == \"__main__\":\n",
        "    text = \"HELLO\"\n",
        "    key = \"KEY\"\n",
        "    key_matrix = np.array([[6, 24], [1, 13]])\n",
        "\n",
        "    print(\"Vigenere Cipher:\")\n",
        "    encrypted_vigenere = vigenere_encrypt(text, key)\n",
        "    print(\"Encrypted:\", encrypted_vigenere)\n",
        "    print(\"Decrypted:\", vigenere_decrypt(encrypted_vigenere, key))\n",
        "\n",
        "    print(\"\\nHill Cipher:\")\n",
        "    encrypted_hill = hill_encrypt(\"HI\", key_matrix)\n",
        "    print(\"Encrypted:\", encrypted_hill)\n",
        "    print(\"Decrypted:\", hill_decrypt(encrypted_hill, key_matrix))\n",
        "\n",
        "    print(\"\\nPlayfair Cipher:\")\n",
        "    encrypted_playfair = playfair_encrypt(text, key)\n",
        "    print(\"Encrypted:\", encrypted_playfair)\n",
        "    print(\"Decrypted:\", playfair_decrypt(encrypted_playfair, key))\n"
      ]
    }
  ]
}